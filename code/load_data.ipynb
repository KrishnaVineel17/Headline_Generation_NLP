{
 "cells": [
  {
   "cell_type": "markdown",
   "metadata": {},
   "source": [
    "Import statements"
   ]
  },
  {
   "cell_type": "code",
   "execution_count": 5,
   "metadata": {},
   "outputs": [
    {
     "name": "stdout",
     "output_type": "stream",
     "text": [
      "[nltk_data] Downloading package punkt to\n",
      "[nltk_data]     /Users/satyavasanthreddytumati/nltk_data...\n",
      "[nltk_data]   Unzipping tokenizers/punkt.zip.\n"
     ]
    },
    {
     "data": {
      "text/plain": [
       "True"
      ]
     },
     "execution_count": 5,
     "metadata": {},
     "output_type": "execute_result"
    }
   ],
   "source": [
    "#import statements\n",
    "import csv\n",
    "import os\n",
    "import pandas as pd\n",
    "import numpy as np\n",
    "import nltk\n",
    "import json\n",
    "from nltk.tokenize import PunktSentenceTokenizer\n",
    "import pickle\n",
    "from nltk.stem import *\n",
    "from nltk import word_tokenize\n",
    "from nltk.stem.porter import *\n",
    "from nltk.stem import WordNetLemmatizer\n",
    "import nltk.text\n",
    "nltk.download('punkt')"
   ]
  },
  {
   "cell_type": "markdown",
   "metadata": {},
   "source": [
    "# Relative locations of datasets\n",
    "Give the number of rows (examples) wished to extract"
   ]
  },
  {
   "cell_type": "code",
   "execution_count": 6,
   "metadata": {},
   "outputs": [],
   "source": [
    "ALL_NEWS_DIR = 'datasets/all-the-news' #https://www.kaggle.com/snapcrack/all-the-news/data\n",
    "JSONL_DATA = \"datasets/signalmedia-1m.jsonl\""
   ]
  },
  {
   "cell_type": "markdown",
   "metadata": {},
   "source": [
    "Loading Punctuation for english language. You might need to dowload using nltk.download()"
   ]
  },
  {
   "cell_type": "code",
   "execution_count": 7,
   "metadata": {},
   "outputs": [],
   "source": [
    "english_sent_tokenizer = nltk.data.load('nltk:tokenizers/punkt/english.pickle')"
   ]
  },
  {
   "cell_type": "markdown",
   "metadata": {},
   "source": [
    "__Description__:<br>\n",
    "This method removes the location from the beginning of the news article.<br> \n",
    "__Input__ :<br>\n",
    "News Article Content<br> \n",
    "__Output__:<br>\n",
    "Article with location removed<br>\n",
    "__Example__:<br>\n",
    "Washington - President announces ...\" is changed to \"President announces ...\""
   ]
  },
  {
   "cell_type": "code",
   "execution_count": 8,
   "metadata": {},
   "outputs": [],
   "source": [
    "def remove_location_from_news(text):\n",
    "    ts = text.split('—')\n",
    "    if(len(ts[0])< 35):\n",
    "        #print(ts[0])\n",
    "        return '—'.join(ts[1:])\n",
    "    return text\n",
    "        "
   ]
  },
  {
   "cell_type": "markdown",
   "metadata": {},
   "source": [
    "__Description__:<br>\n",
    "This method splits the article into meaningful sentences, lemmatizes the words and removes puntuation from the input text.<br>\n",
    "__Input__ :<br>\n",
    ">text: News Article Content or title<br>\n",
    "use_lemmatizer: Whether to use lemmatizer or not<br>\n",
    "use_stemmer : Whether to use lemmatizer or not<br>\n",
    "interval: Number of rows(interval) to print status of processing\n",
    "\n",
    "__Output__:<br>\n",
    "Processed News Article Content or title<br>"
   ]
  },
  {
   "cell_type": "code",
   "execution_count": 9,
   "metadata": {},
   "outputs": [],
   "source": [
    "stemmer = PorterStemmer()\n",
    "lemmatizer = WordNetLemmatizer()\n",
    "def tokenize_text(text, use_lemmatizer = True, use_stemmer = False,interval=10000, remove_location = False):\n",
    "    global error_count, run_count\n",
    "    if(remove_location):\n",
    "        text = remove_location_from_news(text)\n",
    "    run_count+=1\n",
    "    if(run_count%interval==1):\n",
    "        print(\"tokenizer\",run_count)\n",
    "    try:\n",
    "        #print(text)\n",
    "        sent_l = english_sent_tokenizer.tokenize(text)\n",
    "        if(use_lemmatizer):\n",
    "            sent_l = [' '.join([w_al for w_al in [lemmatizer.lemmatize(w) for w in nltk.wordpunct_tokenize(sent)] if w_al.isalnum()]) for sent in sent_l]\n",
    "        if(use_stemmer):\n",
    "            sent_l = [' '.join([w_al for w_al in [stemmer.stem(w) for w in nltk.wordpunct_tokenize(sent)] if w_al.isalnum()]) for sent in sent_l]\n",
    "        #print(sent_l)\n",
    "        return sent_l\n",
    "    except Exception as e:\n",
    "        print(e)\n",
    "        print(\"Couldn't tokenize :\")\n",
    "        error_count+=1\n",
    "        #print((text))\n",
    "        return [text]"
   ]
  },
  {
   "cell_type": "markdown",
   "metadata": {},
   "source": [
    "__Description__:<br>\n",
    "This method is a wrapper that preprocesses the title and content of the news dataframe.<br> \n",
    "__Input__ :<br>\n",
    "News data frame with 'content' and 'title' columns<br> \n",
    "__Output__:<br>\n",
    "Processed News data frame with 'content' and 'title' columns<br>"
   ]
  },
  {
   "cell_type": "code",
   "execution_count": 10,
   "metadata": {},
   "outputs": [],
   "source": [
    "def parse_dataframe(df):\n",
    "    df['content']=df['content'].apply(lambda x : tokenize_text(x))\n",
    "    df['title']=df['title'].apply(lambda x : tokenize_text(x))\n",
    "    return df"
   ]
  },
  {
   "cell_type": "code",
   "execution_count": 11,
   "metadata": {},
   "outputs": [],
   "source": [
    "def tuple2pickle(df,nr):\n",
    "    heads, desc = [], []\n",
    "    for index, row in df.iterrows():\n",
    "        if(len(row['title'])>=1):\n",
    "            heads.append(row['title'])\n",
    "            desc.append(row['content'])\n",
    "    with open('pickles/all-the-news_'+nr+'.pickle', 'wb') as f:\n",
    "        pickle.dump([heads, desc, None], f, pickle.HIGHEST_PROTOCOL)\n",
    "    print('Extracting rows into ', 'pickles/all-the-news_'+nr+'.pickle')"
   ]
  },
  {
   "cell_type": "code",
   "execution_count": null,
   "metadata": {},
   "outputs": [],
   "source": []
  },
  {
   "cell_type": "code",
   "execution_count": 12,
   "metadata": {},
   "outputs": [],
   "source": [
    "def convert_jsonl_tocsv(path,rows=1000000):\n",
    "    try:\n",
    "        os.remove(\"temp_store.csv\")\n",
    "    except OSError:\n",
    "        pass\n",
    "    temp_out = open(\"temp_store.csv\",'a+')\n",
    "    csv_out=csv.writer(temp_out)\n",
    "    csv_out.writerow(['title','content'])\n",
    "    title_article_list = []\n",
    "    with open(path) as infile:\n",
    "        i = 0 \n",
    "        for line in infile:\n",
    "            j = json.loads(line)\n",
    "            content = j[\"content\"].split()\n",
    "            if(len(content)>201):\n",
    "                content = content[:200]\n",
    "            content = \" \".join(content)\n",
    "            #print(content)\n",
    "            title_article_list.append((j[\"title\"],content))\n",
    "            i+=1\n",
    "            if(i==rows):\n",
    "                for x in title_article_list  :\n",
    "                    csv_out.writerow(x)\n",
    "                break\n",
    "            if(i%10000 == 0):\n",
    "                print(\"extract\",i)\n",
    "                for x in title_article_list  :\n",
    "                    csv_out.writerow(x)\n",
    "                title_article_list = []\n",
    "\n",
    "\n",
    "          "
   ]
  },
  {
   "cell_type": "code",
   "execution_count": 13,
   "metadata": {},
   "outputs": [],
   "source": [
    "convert_jsonl_tocsv(JSONL_DATA,10)"
   ]
  },
  {
   "cell_type": "markdown",
   "metadata": {},
   "source": [
    "__Description__:<br>\n",
    "This method loads, cleans, preprocesses and returns the \"all the news\" dataset as a dataframe with 'content' and 'title' columns.<br> \n",
    "__Input__ :<br>\n",
    ">partial: Whether to load partial data or complete data<br>\n",
    "rows: Number of rows to be processed if partial is True\n",
    "\n",
    "__Output__:<br>\n",
    "Processed News data frame with 'content' and 'title' columns<br>"
   ]
  },
  {
   "cell_type": "code",
   "execution_count": 14,
   "metadata": {},
   "outputs": [],
   "source": [
    "error_count = 0\n",
    "run_count = 0 \n",
    "def parse_and_store(rows, PATH):\n",
    "    global error_count, run_count\n",
    "    error_count = 0\n",
    "    run_count = 0\n",
    "    if(PATH == ALL_NEWS_DIR):\n",
    "        df = pd.read_csv(ALL_NEWS_DIR+'/articles1.csv')\n",
    "        df = df.append(pd.read_csv(ALL_NEWS_DIR+'/articles2.csv'))\n",
    "        df = df.append(pd.read_csv(ALL_NEWS_DIR+'/articles3.csv'))\n",
    "        df2 = df[['title','content']]\n",
    "        df3 = parse_dataframe(df2)\n",
    "        with open('pickles/all_news'+str(rows)+'.pickle', 'wb') as fp:\n",
    "            pickle.dump(df3,fb)\n",
    "        return df3\n",
    "    elif(PATH == JSONL_DATA) :\n",
    "        convert_jsonl_tocsv(PATH,rows)\n",
    "        df3 = parse_dataframe(pd.read_csv(\"temp_store.csv\"))\n",
    "        with open('pickles/json_news_'+str(rows)+'.pickle', 'wb') as fp:\n",
    "            pickle.dump(df3,fp)\n",
    "\n",
    "        \n",
    "        "
   ]
  },
  {
   "cell_type": "code",
   "execution_count": 18,
   "metadata": {},
   "outputs": [
    {
     "name": "stdout",
     "output_type": "stream",
     "text": [
      "tokenizer 1\n"
     ]
    }
   ],
   "source": [
    "parse_and_store(1000,JSONL_DATA)"
   ]
  },
  {
   "cell_type": "code",
   "execution_count": null,
   "metadata": {},
   "outputs": [],
   "source": []
  }
 ],
 "metadata": {
  "kernelspec": {
   "display_name": "Python 3",
   "language": "python",
   "name": "python3"
  },
  "language_info": {
   "codemirror_mode": {
    "name": "ipython",
    "version": 3
   },
   "file_extension": ".py",
   "mimetype": "text/x-python",
   "name": "python",
   "nbconvert_exporter": "python",
   "pygments_lexer": "ipython3",
   "version": "3.6.4"
  }
 },
 "nbformat": 4,
 "nbformat_minor": 2
}
