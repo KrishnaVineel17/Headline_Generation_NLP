{
 "cells": [
  {
   "cell_type": "markdown",
   "metadata": {},
   "source": [
    "Import statements"
   ]
  },
  {
   "cell_type": "code",
   "execution_count": null,
   "metadata": {},
   "outputs": [],
   "source": [
    "#import statements\n",
    "import csv\n",
    "import pandas as pd\n",
    "import numpy as np\n",
    "import nltk\n",
    "from nltk.tokenize import PunktSentenceTokenizer\n",
    "import pickle\n",
    "from nltk.stem import *\n",
    "from nltk import word_tokenize\n",
    "from nltk.stem.porter import *\n",
    "from nltk.stem import WordNetLemmatizer\n",
    "import nltk.text"
   ]
  },
  {
   "cell_type": "markdown",
   "metadata": {},
   "source": [
    "# Relative locations of datasets\n",
    "Give the number of rows (examples) wished to extract"
   ]
  },
  {
   "cell_type": "code",
   "execution_count": 22,
   "metadata": {},
   "outputs": [],
   "source": [
    "AP_NEWS_DIR = 'datasets/apnews'  \n",
    "ALL_NEWS_DIR = '~/.kaggle/datasets/snapcrack/all-the-news' #https://www.kaggle.com/snapcrack/all-the-news/data\n",
    "JSONL_DATA = \"datasets/\"\n",
    "NUM_ROWS_EXTRACT = 5000"
   ]
  },
  {
   "cell_type": "markdown",
   "metadata": {},
   "source": [
    "Loading Punctuation for english language. You might need to dowload using nltk.download()"
   ]
  },
  {
   "cell_type": "code",
   "execution_count": 23,
   "metadata": {},
   "outputs": [],
   "source": [
    "english_sent_tokenizer = nltk.data.load('nltk:tokenizers/punkt/english.pickle')"
   ]
  },
  {
   "cell_type": "markdown",
   "metadata": {},
   "source": [
    "__Description__:<br>\n",
    "This method removes the location from the beginning of the news article.<br> \n",
    "__Input__ :<br>\n",
    "News Article Content<br> \n",
    "__Output__:<br>\n",
    "Article with location removed<br>\n",
    "__Example__:<br>\n",
    "Washington - President announces ...\" is changed to \"President announces ...\""
   ]
  },
  {
   "cell_type": "code",
   "execution_count": 24,
   "metadata": {},
   "outputs": [],
   "source": [
    "def remove_location_from_news(text):\n",
    "    ts = text.split('—')\n",
    "    if(len(ts[0])< 35):\n",
    "        #print(ts[0])\n",
    "        return '—'.join(ts[1:])\n",
    "    return text\n",
    "        "
   ]
  },
  {
   "cell_type": "markdown",
   "metadata": {},
   "source": [
    "__Description__:<br>\n",
    "This method splits the article into meaningful sentences, lemmatizes the words and removes puntuation from the input text.<br>\n",
    "__Input__ :<br>\n",
    ">text: News Article Content or title<br>\n",
    "use_lemmatizer: Whether to use lemmatizer or not<br>\n",
    "use_stemmer : Whether to use lemmatizer or not<br>\n",
    "interval: Number of rows(interval) to print status of processing\n",
    "\n",
    "__Output__:<br>\n",
    "Processed News Article Content or title<br>"
   ]
  },
  {
   "cell_type": "code",
   "execution_count": 25,
   "metadata": {},
   "outputs": [],
   "source": [
    "stemmer = PorterStemmer()\n",
    "lemmatizer = WordNetLemmatizer()\n",
    "def tokenize_text(text, use_lemmatizer = True, use_stemmer = False,interval=1000):\n",
    "    global error_count, run_count\n",
    "    text = remove_location_from_news(text)\n",
    "    run_count+=1\n",
    "    if(run_count%interval==1):\n",
    "        print(run_count)\n",
    "    try:\n",
    "        #print(text)\n",
    "        sent_l = english_sent_tokenizer.tokenize(text)\n",
    "        if(use_lemmatizer):\n",
    "            sent_l = [' '.join([w_al for w_al in [lemmatizer.lemmatize(w) for w in nltk.wordpunct_tokenize(sent)] if w_al.isalnum()]) for sent in sent_l]\n",
    "        if(use_stemmer):\n",
    "            sent_l = [' '.join([w_al for w_al in [stemmer.stem(w) for w in nltk.wordpunct_tokenize(sent)] if w_al.isalnum()]) for sent in sent_l]\n",
    "        #print(sent_l)\n",
    "        return sent_l\n",
    "    except Exception as e:\n",
    "        print(e)\n",
    "        print(\"Couldn't tokenize :\")\n",
    "        error_count+=1\n",
    "        #print((text))\n",
    "        return [text]"
   ]
  },
  {
   "cell_type": "markdown",
   "metadata": {},
   "source": [
    "__Description__:<br>\n",
    "This method is a wrapper that preprocesses the title and content of the news dataframe.<br> \n",
    "__Input__ :<br>\n",
    "News data frame with 'content' and 'title' columns<br> \n",
    "__Output__:<br>\n",
    "Processed News data frame with 'content' and 'title' columns<br>"
   ]
  },
  {
   "cell_type": "code",
   "execution_count": 26,
   "metadata": {},
   "outputs": [],
   "source": [
    "def parse_dataframe(df):\n",
    "    df['content']=df['content'].apply(lambda x : tokenize_text(x))\n",
    "    df['title']=df['title'].apply(lambda x : tokenize_text(x))\n",
    "    return df"
   ]
  },
  {
   "cell_type": "markdown",
   "metadata": {},
   "source": [
    "**Description:**<br>\n",
    "This method converts a dataframe into a pickle format<br>\n",
    "**Input:**<br>\n",
    "Dataframe<br>\n",
    "**Output:**<br>\n",
    "Dumped pickle file containing heads, desc, and keywords (not used when training)<br>"
   ]
  },
  {
   "cell_type": "code",
   "execution_count": 27,
   "metadata": {},
   "outputs": [],
   "source": [
    "def tuple2pickle(df,nr):\n",
    "    heads, desc = [], []\n",
    "    for index, row in df.iterrows():\n",
    "        if(len(row['title'])>=1):\n",
    "            heads.append(row['title'])\n",
    "            desc.append(row['content'])\n",
    "    with open('pickles/all-the-news_'+nr+'.pickle', 'wb') as f:\n",
    "        pickle.dump([heads, desc, None], f, pickle.HIGHEST_PROTOCOL)\n",
    "    print('Extracting rows into ', 'pickles/all-the-news_'+nr+'.pickle')"
   ]
  },
  {
   "cell_type": "markdown",
   "metadata": {},
   "source": [
    "__Description__:<br>\n",
    "This method loads, cleans, preprocesses and returns the \"all the news\" dataset as a dataframe with 'content' and 'title' columns.<br> \n",
    "__Input__ :<br>\n",
    ">partial: Whether to load partial data or complete data<br>\n",
    "rows: Number of rows to be processed if partial is True\n",
    "\n",
    "__Output__:<br>\n",
    "Processed News data frame with 'content' and 'title' columns<br>"
   ]
  },
  {
   "cell_type": "code",
   "execution_count": 28,
   "metadata": {},
   "outputs": [],
   "source": [
    "error_count = 0\n",
    "run_count = 0 \n",
    "def get_all_news_df(partial= True,rows = 5000):\n",
    "    global error_count, run_count\n",
    "    error_count = 0\n",
    "    run_count = 0 \n",
    "    df = pd.read_csv(ALL_NEWS_DIR+'/articles1.csv')\n",
    "    df = df.append(pd.read_csv(ALL_NEWS_DIR+'/articles2.csv'))\n",
    "    df = df.append(pd.read_csv(ALL_NEWS_DIR+'/articles3.csv'))\n",
    "    df2 = df[['title','content']]\n",
    "    if(partial):\n",
    "        df3 = parse_dataframe(df2.head(rows))\n",
    "        tuple2pickle(df3,str(rows))\n",
    "    else: \n",
    "        df3 = parse_dataframe(df2)\n",
    "        tuple2pickle(df3,'all')\n",
    "    return df3"
   ]
  },
  {
   "cell_type": "code",
   "execution_count": 29,
   "metadata": {
    "scrolled": false
   },
   "outputs": [
    {
     "name": "stdout",
     "output_type": "stream",
     "text": [
      "1\n"
     ]
    },
    {
     "name": "stderr",
     "output_type": "stream",
     "text": [
      "/anaconda3/lib/python3.6/site-packages/ipykernel_launcher.py:2: SettingWithCopyWarning: \n",
      "A value is trying to be set on a copy of a slice from a DataFrame.\n",
      "Try using .loc[row_indexer,col_indexer] = value instead\n",
      "\n",
      "See the caveats in the documentation: http://pandas.pydata.org/pandas-docs/stable/indexing.html#indexing-view-versus-copy\n",
      "  \n",
      "/anaconda3/lib/python3.6/site-packages/ipykernel_launcher.py:3: SettingWithCopyWarning: \n",
      "A value is trying to be set on a copy of a slice from a DataFrame.\n",
      "Try using .loc[row_indexer,col_indexer] = value instead\n",
      "\n",
      "See the caveats in the documentation: http://pandas.pydata.org/pandas-docs/stable/indexing.html#indexing-view-versus-copy\n",
      "  This is separate from the ipykernel package so we can avoid doing imports until\n"
     ]
    },
    {
     "name": "stdout",
     "output_type": "stream",
     "text": [
      "Extracting rows into  pickles/eval_100.pickle\n"
     ]
    }
   ],
   "source": [
    "df3 = get_all_news_df(True, NUM_ROWS_EXTRACT)"
   ]
  },
  {
   "cell_type": "code",
   "execution_count": 30,
   "metadata": {},
   "outputs": [
    {
     "data": {
      "text/html": [
       "<div>\n",
       "<style scoped>\n",
       "    .dataframe tbody tr th:only-of-type {\n",
       "        vertical-align: middle;\n",
       "    }\n",
       "\n",
       "    .dataframe tbody tr th {\n",
       "        vertical-align: top;\n",
       "    }\n",
       "\n",
       "    .dataframe thead th {\n",
       "        text-align: right;\n",
       "    }\n",
       "</style>\n",
       "<table border=\"1\" class=\"dataframe\">\n",
       "  <thead>\n",
       "    <tr style=\"text-align: right;\">\n",
       "      <th></th>\n",
       "      <th>title</th>\n",
       "      <th>content</th>\n",
       "    </tr>\n",
       "  </thead>\n",
       "  <tbody>\n",
       "    <tr>\n",
       "      <th>0</th>\n",
       "      <td>[Patriots Day Is Best When It Digs Past the He...</td>\n",
       "      <td>[Patriots Day Peter Berg s new thriller that r...</td>\n",
       "    </tr>\n",
       "    <tr>\n",
       "      <th>1</th>\n",
       "      <td>[A Break in the Search for the Origin of Compl...</td>\n",
       "      <td>[In Norse mythology human and our world were c...</td>\n",
       "    </tr>\n",
       "    <tr>\n",
       "      <th>2</th>\n",
       "      <td>[Obama s Ingenious Mention of Atticus Finch]</td>\n",
       "      <td>[If our democracy is to work in this increasin...</td>\n",
       "    </tr>\n",
       "    <tr>\n",
       "      <th>3</th>\n",
       "      <td>[Donald Trump Meets and Assails the Press]</td>\n",
       "      <td>[Updated on January 11 at 5 05 p m In his firs...</td>\n",
       "    </tr>\n",
       "    <tr>\n",
       "      <th>4</th>\n",
       "      <td>[Trump I Think Hacking Was Russian]</td>\n",
       "      <td>[Updated at 12 25 p m After month of equivocat...</td>\n",
       "    </tr>\n",
       "  </tbody>\n",
       "</table>\n",
       "</div>"
      ],
      "text/plain": [
       "                                               title  \\\n",
       "0  [Patriots Day Is Best When It Digs Past the He...   \n",
       "1  [A Break in the Search for the Origin of Compl...   \n",
       "2       [Obama s Ingenious Mention of Atticus Finch]   \n",
       "3         [Donald Trump Meets and Assails the Press]   \n",
       "4                [Trump I Think Hacking Was Russian]   \n",
       "\n",
       "                                             content  \n",
       "0  [Patriots Day Peter Berg s new thriller that r...  \n",
       "1  [In Norse mythology human and our world were c...  \n",
       "2  [If our democracy is to work in this increasin...  \n",
       "3  [Updated on January 11 at 5 05 p m In his firs...  \n",
       "4  [Updated at 12 25 p m After month of equivocat...  "
      ]
     },
     "execution_count": 30,
     "metadata": {},
     "output_type": "execute_result"
    }
   ],
   "source": [
    "df3.head()"
   ]
  },
  {
   "cell_type": "code",
   "execution_count": null,
   "metadata": {},
   "outputs": [],
   "source": []
  }
 ],
 "metadata": {
  "kernelspec": {
   "display_name": "Python 3",
   "language": "python",
   "name": "python3"
  },
  "language_info": {
   "codemirror_mode": {
    "name": "ipython",
    "version": 3
   },
   "file_extension": ".py",
   "mimetype": "text/x-python",
   "name": "python",
   "nbconvert_exporter": "python",
   "pygments_lexer": "ipython3",
   "version": "3.6.4"
  }
 },
 "nbformat": 4,
 "nbformat_minor": 2
}
